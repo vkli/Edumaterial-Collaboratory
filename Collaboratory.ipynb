{
 "cells": [
  {
   "cell_type": "markdown",
   "metadata": {},
   "source": [
    "## Draw"
   ]
  },
  {
   "cell_type": "code",
   "execution_count": null,
   "metadata": {},
   "outputs": [],
   "source": [
    "import turtle\n",
    "from tkinter import *\n"
   ]
  },
  {
   "cell_type": "code",
   "execution_count": null,
   "metadata": {},
   "outputs": [],
   "source": [
    "#erasable\n",
    "# https://stackoverflow.com/questions/34823206/turtle-delete-writing-on-screen-and-rewrite\n",
    "\n",
    "def drawerase(turtle, :\n",
    "              \n",
    "\n",
    "def text(turtle):\n",
    "              label=input()\n",
    "\n",
    "frame = Tkinter.Frame(bg='black')\n",
    "Tkinter.Label(frame, text=u'Hello', bg='grey', fg='white').pack(fill='x')\n",
    "canvas = Tkinter.Canvas(frame, width=750, height=750)\n",
    "canvas.pack()\n",
    "frame.pack(fill='both', expand=True)\n",
    "\n",
    "turtle1 = turtle.RawTurtle(canvas)\n",
    "turtle2 = turtle.RawTurtle(canvas)"
   ]
  },
  {
   "cell_type": "code",
   "execution_count": 2,
   "metadata": {},
   "outputs": [],
   "source": [
    "import turtle\n",
    "from turtle import Screen, Turtle\n",
    "\n",
    "screen = Screen()\n",
    "t = Turtle(\"turtle\")\n",
    "t.speed(-1)\n",
    "\n",
    "def dragging(x, y):  #(x,y) = click location\n",
    "    t.ondrag(None) #clear current ondrag function\n",
    "    t.setheading(t.towards(x, y)) #update direction to angle between (x,y) and current position\n",
    "    t.goto(x, y)\n",
    "    t.ondrag(dragging) #repeat\n",
    "\n",
    "def clickRight():\n",
    "    t.clear()\n",
    "\n",
    "def main():  # This will run the program\n",
    "    turtle.listen()\n",
    "    \n",
    "    t.ondrag(dragging)  # When we drag the turtle object call dragging\n",
    "    turtle.onscreenclick(clickRight, 3)\n",
    "\n",
    "    screen.mainloop()  # This will continue running main() \n",
    "\n",
    "main()"
   ]
  },
  {
   "cell_type": "markdown",
   "metadata": {},
   "source": [
    "## Organize Board\n",
    "https://stackoverflow.com/questions/36506152/tkinter-grid-or-pack-inside-a-grid"
   ]
  },
  {
   "cell_type": "markdown",
   "metadata": {},
   "source": [
    "## Turtle in Tkinter\n",
    "https://stackoverflow.com/questions/14514524/how-to-combine-tkinter-windows#14514923"
   ]
  },
  {
   "cell_type": "code",
   "execution_count": null,
   "metadata": {},
   "outputs": [],
   "source": [
    "import tkinter\n",
    "import turtle\n",
    "\n",
    "def run_turtles(*args):\n",
    "    for t, d in args:\n",
    "        t.circle(250, d)\n",
    "    root.after_idle(run_turtles, *args)\n",
    "\n",
    "root = tkinter.Tk()\n",
    "root.withdraw()\n",
    "\n",
    "frame = tkinter.Frame(bg='black')\n",
    "tkinter.Label(frame, text=u'Hello', bg='grey', fg='white').pack(fill='x')\n",
    "canvas = tkinter.Canvas(frame, width=750, height=750)\n",
    "canvas.pack()\n",
    "frame.pack(fill='both', expand=True)\n",
    "\n",
    "turtle1 = turtle.RawTurtle(canvas)\n",
    "turtle2 = turtle.RawTurtle(canvas)\n",
    "\n",
    "turtle1.ht(); turtle1.pu()\n",
    "turtle1.left(90); turtle1.fd(250); turtle1.lt(90)\n",
    "turtle1.st(); turtle1.pd()\n",
    "\n",
    "turtle2.ht(); turtle2.pu()\n",
    "turtle2.fd(250); turtle2.lt(90)\n",
    "turtle2.st(); turtle2.pd()\n",
    "\n",
    "root.deiconify()\n",
    "\n",
    "run_turtles((turtle1, 3), (turtle2, 4))\n",
    "\n",
    "root.mainloop()"
   ]
  },
  {
   "cell_type": "markdown",
   "metadata": {},
   "source": [
    "## Actual Code"
   ]
  },
  {
   "cell_type": "code",
   "execution_count": 1,
   "metadata": {},
   "outputs": [],
   "source": [
    "import turtle\n",
    "from tkinter import *\n",
    "\n",
    "def write():\n",
    "    pass\n",
    "    \n",
    "def color():\n",
    "    pass        \n",
    "def dragging(x,y): #(x,y) = location of click\n",
    "    chalk.ondrag(None) #clear ondrag function\n",
    "    chalk.setheading(chalk.towards(x,y)) #update direction, as angle between (x,y) and current position\n",
    "    chalk.goto(x,y)\n",
    "    chalk.ondrag(dragging) #repeat\n",
    "    \n",
    "root = Tk()\n",
    "root.withdraw()\n",
    "        \n",
    "#menu\n",
    "menu=Frame(width=150, height=800, bg='white')\n",
    "labelmenu=Label(menu, text='Menu')\n",
    "labelmenu.pack() #default side='top'\n",
    "menu.pack(side='left',fill='both',expand=True) #place as far up as possible, fill horiz/vert, expand to fill space unused by parent\n",
    "\n",
    "#buttons toggle write, color, size\n",
    "Button(menu, text='Write', command=write).pack()#grid(row=0,column=0)\n",
    "Button(menu, text='Color', command=color).pack()#grid(row=2,column=0) \n",
    "        \n",
    "#label chalk color, chalk size\n",
    "labelcolor=Label(menu, text='Color')\n",
    "labelcolor.pack()\n",
    "        \n",
    "labelsize=Label(menu, text='Size')\n",
    "labelsize.pack()       \n",
    "\n",
    "#chalkboard frame\n",
    "board = Frame(bg='black')\n",
    "board.pack(side='left',fill='both', expand=True)\n",
    "\n",
    "#turtle canvas\n",
    "tcanvas = Canvas(board, width=1000, height=800, background='black')\n",
    "tcanvas.pack(side='left',fill='both',expand=True)\n",
    "\n",
    "        #organize\n",
    "        #self.menu.grid(row=0, column=0, rowspan=1, sticky='nsew') #top/bottom/right/left is all the way N/S/E/W\n",
    "        #self.canvas.grid(row=0, column=1, rowspan=1, sticky='nsew')\n",
    "\n",
    "        #self.root.grid_rowconfigure(0, weight=1) #grid will expand row 1 with priority 1 to fill unused space\n",
    "        #self.root.grid_columnconfigure(1, weight=1) # \" column\n",
    "\n",
    "chalk=turtle.RawTurtle(tcanvas)\n",
    "        \n",
    "chalk.speed(-1)\n",
    "\n",
    "root.deiconify()\n",
    "chalk.ondrag(dragging)  # When we drag the turtle object call dragging\n",
    "        #turtle.onscreenclick(clickRight, 3)\n",
    "root.mainloop() # This will continue````` running main() \n",
    "\n"
   ]
  },
  {
   "cell_type": "markdown",
   "metadata": {},
   "source": [
    "## Editing"
   ]
  },
  {
   "cell_type": "markdown",
   "metadata": {},
   "source": [
    "Keep version history (links)\n",
    "Start from where one left off on any version, creates new branch (web)"
   ]
  }
 ],
 "metadata": {
  "kernelspec": {
   "display_name": "Python 3",
   "language": "python",
   "name": "python3"
  },
  "language_info": {
   "codemirror_mode": {
    "name": "ipython",
    "version": 3
   },
   "file_extension": ".py",
   "mimetype": "text/x-python",
   "name": "python",
   "nbconvert_exporter": "python",
   "pygments_lexer": "ipython3",
   "version": "3.7.4"
  }
 },
 "nbformat": 4,
 "nbformat_minor": 2
}
